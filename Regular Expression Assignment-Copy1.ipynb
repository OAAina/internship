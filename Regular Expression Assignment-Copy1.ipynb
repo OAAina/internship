{
 "cells": [
  {
   "cell_type": "code",
   "execution_count": 1,
   "id": "d7e4e3db",
   "metadata": {},
   "outputs": [],
   "source": [
    "import re"
   ]
  },
  {
   "cell_type": "code",
   "execution_count": 4,
   "id": "dcb910db",
   "metadata": {},
   "outputs": [
    {
     "name": "stdout",
     "output_type": "stream",
     "text": [
      "True\n",
      "False\n"
     ]
    }
   ],
   "source": [
    "def is_allowed_specific_char(string):\n",
    "    charRe = re.compile(r'[^a-zA-Z0-9]')\n",
    "    string = charRe.search(string)\n",
    "    return not bool(string)\n",
    "\n",
    "print(is_allowed_specific_char(\"ABCDEFabcdef123450\"))\n",
    "print(is_allowed_specific_char(\"*&%@#!}{\"))"
   ]
  },
  {
   "cell_type": "code",
   "execution_count": 29,
   "id": "19e2bece",
   "metadata": {},
   "outputs": [
    {
     "name": "stdout",
     "output_type": "stream",
     "text": [
      "Found match!\n",
      "Not matched!\n",
      "Found match!\n",
      "Found match!\n",
      "Not matched!\n",
      "Not matched!\n"
     ]
    }
   ],
   "source": [
    "import re\n",
    "def text_match(text):\n",
    "    patterns = '^a(b*)$'\n",
    "    if re.search(patterns, text):\n",
    "        return \"Found match!\"\n",
    "    else:\n",
    "        return(\"Not matched!\")\n",
    "print(text_match(\"ab\"))\n",
    "print(text_match(\"abc\"))\n",
    "print(text_match(\"a\"))\n",
    "print(text_match(\"ab\"))\n",
    "print(text_match(\"abd\"))\n",
    "print(text_match(\"ba\"))"
   ]
  },
  {
   "cell_type": "code",
   "execution_count": 37,
   "id": "b747ebad",
   "metadata": {},
   "outputs": [
    {
     "name": "stdout",
     "output_type": "stream",
     "text": [
      "Found match!\n",
      "Found match!\n",
      "Found match!\n",
      "Not matched!\n",
      "Found match!\n",
      "Found match!\n",
      "Not matched!\n"
     ]
    }
   ],
   "source": [
    "import re\n",
    "def text_match(text):\n",
    "    patterns =\"ab?\"\n",
    "    if re.search(patterns, text):\n",
    "        return \"Found match!\"\n",
    "    else:\n",
    "        return(\"Not matched!\")\n",
    "print(text_match(\"a\"))\n",
    "print(text_match(\"abc\"))\n",
    "print(text_match(\"0a\"))\n",
    "print(text_match(\"0b\"))\n",
    "print(text_match(\"0ab\"))\n",
    "print(text_match(\"ba0\"))\n",
    "print(text_match(\"0o\"))"
   ]
  },
  {
   "cell_type": "code",
   "execution_count": 55,
   "id": "8f15e92d",
   "metadata": {},
   "outputs": [
    {
     "name": "stdout",
     "output_type": "stream",
     "text": [
      "Found match!\n",
      "Not matched!\n",
      "Not matched!\n",
      "Not matched!\n",
      "Found match!\n"
     ]
    }
   ],
   "source": [
    "import re\n",
    "def text_match(text):\n",
    "    patterns =\"ab{3}?\"\n",
    "    if re.search(patterns, text):\n",
    "        return\"Found match!\"\n",
    "    else:\n",
    "        return(\"Not matched!\")#\n",
    "    \n",
    "print(text_match(\"abbb\"))\n",
    "print(text_match(\"bba3\"))\n",
    "print(text_match(\"bba\"))\n",
    "print(text_match(\"aaabb\"))\n",
    "print(text_match(\"abbbc\"))\n",
    "\n"
   ]
  },
  {
   "cell_type": "code",
   "execution_count": 58,
   "id": "87ecdb13",
   "metadata": {},
   "outputs": [
    {
     "name": "stdout",
     "output_type": "stream",
     "text": [
      "Found match!\n",
      "Found match!\n",
      "Not matched!\n"
     ]
    }
   ],
   "source": [
    "import re\n",
    "def text_match(text):\n",
    "    patterns = \"ab{2,3}\"\n",
    "    if re.search(patterns, text):\n",
    "        return \"Found match!\"\n",
    "    else:\n",
    "        return(\"Not matched!\")\n",
    "print(text_match(\"aabbcc\"))\n",
    "print(text_match(\"aaabbccc\"))\n",
    "print(text_match(\"bbbccccc\"))\n"
   ]
  },
  {
   "cell_type": "code",
   "execution_count": 10,
   "id": "eb061e6c",
   "metadata": {},
   "outputs": [
    {
     "name": "stdout",
     "output_type": "stream",
     "text": [
      "Not matched!\n",
      "Found match!\n",
      "Found match!\n"
     ]
    }
   ],
   "source": [
    "import re\n",
    "def text_match(text):\n",
    "    patterns = \"ab{2,3}\"\n",
    "    if re.search(patterns, text):\n",
    "        return \"Found match!\"\n",
    "    else:\n",
    "        return(\"Not matched!\")\n",
    "print(text_match(\"ab\"))\n",
    "print(text_match(\"aabbbbbc\"))\n",
    "print(text_match(\"aabbbbc\"))\n"
   ]
  },
  {
   "cell_type": "code",
   "execution_count": 18,
   "id": "cb9d368b",
   "metadata": {},
   "outputs": [
    {
     "name": "stdout",
     "output_type": "stream",
     "text": [
      "Not matched!\n",
      "Found a match!\n",
      "Not matched!\n",
      "Found a match!\n"
     ]
    }
   ],
   "source": [
    "import re\n",
    "def text_match(text):\n",
    "    patterns = 'a.*?b$'\n",
    "    if re.search(patterns, text):\n",
    "        return 'Found a match!'\n",
    "    else:\n",
    "        return('Not matched!')\n",
    "    \n",
    "print(text_match(\"aabAbbbc\"))\n",
    "print(text_match(\"accdbbbjjjb\"))\n",
    "print(text_match(\"aabbbbbd\"))\n",
    "print(text_match(\"aabAbbjjb\"))\n",
    "        \n"
   ]
  },
  {
   "cell_type": "code",
   "execution_count": 26,
   "id": "2730651e",
   "metadata": {},
   "outputs": [
    {
     "name": "stdout",
     "output_type": "stream",
     "text": [
      "['kemiaina']\n"
     ]
    }
   ],
   "source": [
    "import re\n",
    "ss = \"kemiaina.letterbox is full\"\n",
    "rl = re.findall(r\"^\\w+\",ss)\n",
    "print(rl)\n",
    "                "
   ]
  },
  {
   "cell_type": "code",
   "execution_count": 35,
   "id": "3780f636",
   "metadata": {},
   "outputs": [
    {
     "name": "stdout",
     "output_type": "stream",
     "text": [
      "Yes, the string ends with 'good'\n"
     ]
    }
   ],
   "source": [
    "import re\n",
    "txt = \"The boy is good\"\n",
    "# check if the string ends with 'good':\n",
    "x = re.findall(\"good$\", txt)\n",
    "if x:\n",
    "    print(\"Yes, the string ends with 'good'\")\n",
    "else:\n",
    "    print(\"No match\")"
   ]
  },
  {
   "cell_type": "code",
   "execution_count": 34,
   "id": "9cd04520",
   "metadata": {},
   "outputs": [
    {
     "name": "stdout",
     "output_type": "stream",
     "text": [
      "No match\n"
     ]
    }
   ],
   "source": [
    "import re\n",
    "txt = \"Kemi is a good boy\"\n",
    "# check if the string ends with 'girl':\n",
    "x = re.findall(\"girl$\", txt)\n",
    "if x:\n",
    "    print(\"Yes, the string ends with 'girl'\")\n",
    "else:\n",
    "    print(\"No match\")\n",
    "    \n",
    "txt = \"Kema is a good boy\"\n",
    "# check if the string ends with 'boy':\n",
    "    \n",
    "    "
   ]
  },
  {
   "cell_type": "code",
   "execution_count": 63,
   "id": "de3f5cd9",
   "metadata": {},
   "outputs": [
    {
     "name": "stdout",
     "output_type": "stream",
     "text": [
      "['0132']\n"
     ]
    }
   ],
   "source": [
    "import re\n",
    "txt = \"0132,1458,2725\"\n",
    "x = re.findall(r\"^\\w+\", txt)\n",
    "print(x)"
   ]
  },
  {
   "cell_type": "code",
   "execution_count": null,
   "id": "d24273de",
   "metadata": {},
   "outputs": [],
   "source": []
  }
 ],
 "metadata": {
  "kernelspec": {
   "display_name": "Python 3 (ipykernel)",
   "language": "python",
   "name": "python3"
  },
  "language_info": {
   "codemirror_mode": {
    "name": "ipython",
    "version": 3
   },
   "file_extension": ".py",
   "mimetype": "text/x-python",
   "name": "python",
   "nbconvert_exporter": "python",
   "pygments_lexer": "ipython3",
   "version": "3.10.9"
  }
 },
 "nbformat": 4,
 "nbformat_minor": 5
}
